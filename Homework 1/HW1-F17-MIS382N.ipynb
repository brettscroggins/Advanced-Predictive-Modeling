{
 "cells": [
  {
   "cell_type": "markdown",
   "metadata": {},
   "source": [
    "\n",
    "# <p style=\"text-align: center;\">MIS 382N: ADVANCED PREDICTIVE MODELING - MSBA</p>\n",
    "# <p style=\"text-align: center;\">Assignment 1</p>\n",
    "## <p style=\"text-align: center;\">Total points: 75</p>\n",
    "## <p style=\"text-align: center;\">Due: Tuesday, September 13 submitted via Canvas by 11:59 p</p>\n",
    "\n",
    "Your homework should be written in a **Jupyter notebook**. You may work in groups of two if you wish. Only one student per team needs to submit the assignment on Canvas.  But be sure to include name and UTEID for both students.  Homework groups will be created and managed through Canvas, so please do not arbitrarily change your homework group.  \n",
    "\n",
    "Also, please make sure your code runs and the graphics (and anything else) are displayed in your notebook before submitting. (%matplotlib inline)"
   ]
  },
  {
   "cell_type": "markdown",
   "metadata": {},
   "source": [
    "# Question 1: Applications of machine learning (10 pts)\n",
    "\n",
    "Read the [article](http://www.datasciencecentral.com/profiles/blogs/20-data-science-systems-used-by-amazon-to-operate-its-business) \"21 data science systems used by Amazon to operate its business\" and pick any two of the data science systems used by Amazon according to this blog.\n",
    "\n",
    "(5 pts each) For each of these two system you have chosen:\n",
    "\n",
    "What kind of machine learning problem is involved (e.g. classification, regression, clustering, outlier detection,...)? Speculate on what kind of data may be needed and how the results can be useful to the company.\n",
    "\n",
    "\n"
   ]
  },
  {
   "cell_type": "markdown",
   "metadata": {},
   "source": [
    "#### 1.  # 20\n",
    "Competitive Analysis: Text scraping the data from social media and online posts, determining sentiment towards the company (Amazon), summarazing the data into useful business public opinion, implement business solutions based upon deciphered feedback.\n",
    "\n",
    "After scraping the data, it is common to use a heirarchical clustering. This can be done with multiple methods of unsupervised learning. The data needed is all text scraped from various sources, after having been linked in some way to Amazon. Filtering out 'bad data' would be equally important as obtaining 'good data'. This system when properly implemented could allow the company to make marketing decisions affecting their reputation in real time with indirect, voluntary customer feedback. The value of this system would be enormous to the company marketing team.\n",
    "\n",
    "#### 2.  # 15\n",
    "Sales Forecasting: Predictive models for future prices are created using decision trees based upon a subset of the product's features. This is clearly a classification problem hidden in a prediction model. The data that would be needed would be information on features, which products have which features, the sales of the products, and the corresponding time stamps. With this data a reasonably accurate model could predict expected sales amounts."
   ]
  },
  {
   "cell_type": "markdown",
   "metadata": {},
   "source": [
    "# Question 2: Maximum likelihood estimate (10 pts)\n",
    "\n",
    "Suppose a manager at an internet sales company wants to estimate how fast his salesperson is generating successful leads. Instead of recording the time for each lead, the time taken to generate the next 5 leads are recorded, i.e., there is one recording (denoting the elapsed time) for every 5 consecutive leads. For a specific salesperson, the time intervals recorded are {1,3,1.5,4,2,7,1.2,2,4,3.1} hours. \n",
    "\n",
    "A statistician suggests that if these time intervals are assumed to arise by i.i.d. sampling from the following distribution:\n",
    "$$ p(t) = \\frac{1}{C \\times \\theta^{5}}t^{4}exp^{-\\frac{t}{\\theta}},$$\n",
    "(where C is a normalizing constant). Therefore, if $\\theta$ can be estimated, then he can provide detailed information\n",
    "about the lead generation process, including average rates, variances etc.\n",
    "\n",
    "Find the Maximum Likelihood estimate for $\\theta$ based on the recorded observations.\n",
    "\n",
    "\n",
    "## Answer\n",
    "\n",
    "\n",
    "#### Work:\n",
    "= $\\prod_{i=1}^{n}\\dfrac{1}{C\\theta^5}t^4 * e ^\\dfrac{-t}{\\theta}$\n",
    "\n",
    "= $ln\\dfrac{\\prod_{i=1}^{n}t^4}{C^N\\theta^{5N}} * ln \\prod_{i=1}^{n}e ^\\dfrac{-t}{\\theta}$\n",
    "\n",
    "= $ln\\dfrac{1}{C^N*\\theta^{5N}}*\\sum_{i=1}^{n}lnt^4 * \\sum_{i=1}^{n} \\dfrac{-t}{\\theta}$\n",
    "\n",
    "= $ln\\dfrac{1}{C^N*\\theta^{5N}}*\\sum_{i=1}^{n}lnt^4 * \\sum_{i=1}^{n} \\dfrac{-t}{\\theta}$\n",
    "\n",
    "= $-Nln(C) - 5Nln(\\theta) + 4\\sum_{i=1}^{n}ln(t) + \\sum_{i=1}^{n} \\dfrac{-t}{\\theta}$\n",
    "\n",
    "#### Take the partial derivative with respect to theta, and set equal to zero:\n",
    "\n",
    "$0 =  \\dfrac {d}{d\\theta}[-Nln(C) - 5Nln(\\theta) + 4\\sum_{i=1}^{n}ln(t) + \\sum_{i=1}^{n} \\dfrac{-t}{\\theta}]$\n",
    "\n",
    "$ 0 = \\dfrac{-5N}{\\theta} + \\sum_{i=1}^{n} \\dfrac{t}{\\theta^2}$\n",
    "\n",
    "$\\theta = \\sum_{i=1}^{n}\\dfrac{t}{5N}$\n",
    "\n",
    "#### Using the ten time parameters specified above, here is the solution:\n",
    "$\\theta = \\dfrac {28.8}{50} $"
   ]
  },
  {
   "cell_type": "markdown",
   "metadata": {},
   "source": [
    "# Question 3: Multiple Linear Regression in Python (25 pts)\n",
    "\n",
    "Use the following code to import the boston housing dataset and linear models in python.\n",
    "\n"
   ]
  },
  {
   "cell_type": "code",
   "execution_count": 1,
   "metadata": {
    "collapsed": true
   },
   "outputs": [],
   "source": [
    "from sklearn import datasets, linear_model\n",
    "from sklearn.metrics import mean_squared_error\n",
    "import numpy as np\n",
    "import pandas as pd\n",
    "import matplotlib.pyplot as plt\n",
    "\n",
    "boston = datasets.load_boston()\n",
    "\n",
    "X = boston.data\n",
    "y = boston.target"
   ]
  },
  {
   "cell_type": "markdown",
   "metadata": {},
   "source": [
    "The dataset information can be found [here](http://scikit-learn.org/stable/datasets/index.html#boston-house-prices-dataset).\n",
    "\n",
    "a. (3 pts) Print the shape (number of rows and columns) of the feature matrix, and print the first 5 rows.\n",
    "\n",
    "b.  (6 pts) Using ordinary least squares, fit a multiple linear regression (MLR) on all the feature variables using the entire dataset (506 rows). Report the regression coefficient of each input feature and evaluate the model using mean squared error (MSE).  Example of ordinary least squares in Python is shown in Section 1.1.1 of http://scikit-learn.org/stable/modules/linear_model.html.\n",
    "\n",
    "c.  (6 pts) Split the data into a training set and a test set.  Use the first 400 rows for training set and remaining rows for test set.  Fit an MLR using the training set.  Evaluate the trained model using the training set and the test set, respectively.  Compare the two MSE values thus obtained.\n",
    "\n",
    "d.  (6 pts) Do you think your MLR model is reasonable for this problem? You may look at the distribution of residuals to provide an informed answer.\n",
    "\n",
    "e. (5 pts) Use the following code to add new features to the dataset.  You should have 26 variables now.  Note that this code adds one squared term for each variable; in practice one may introduce only a few terms based on domain knowledge or experimentation.  Repeat (c) and report the MSE values of the training set and the test set, respectively."
   ]
  },
  {
   "cell_type": "markdown",
   "metadata": {},
   "source": [
    "## Answer"
   ]
  },
  {
   "cell_type": "markdown",
   "metadata": {},
   "source": [
    "## Part A"
   ]
  },
  {
   "cell_type": "code",
   "execution_count": 2,
   "metadata": {},
   "outputs": [
    {
     "name": "stdout",
     "output_type": "stream",
     "text": [
      "(506, 13)\n",
      "The size of the data frame is 506 entries with 13 attributes each.\n",
      "\n"
     ]
    },
    {
     "data": {
      "text/html": [
       "<div>\n",
       "<style>\n",
       "    .dataframe thead tr:only-child th {\n",
       "        text-align: right;\n",
       "    }\n",
       "\n",
       "    .dataframe thead th {\n",
       "        text-align: left;\n",
       "    }\n",
       "\n",
       "    .dataframe tbody tr th {\n",
       "        vertical-align: top;\n",
       "    }\n",
       "</style>\n",
       "<table border=\"1\" class=\"dataframe\">\n",
       "  <thead>\n",
       "    <tr style=\"text-align: right;\">\n",
       "      <th></th>\n",
       "      <th>CRIM</th>\n",
       "      <th>ZN</th>\n",
       "      <th>INDUS</th>\n",
       "      <th>CHAS</th>\n",
       "      <th>NOX</th>\n",
       "      <th>RM</th>\n",
       "      <th>AGE</th>\n",
       "      <th>DIS</th>\n",
       "      <th>RAD</th>\n",
       "      <th>TAX</th>\n",
       "      <th>PTRATIO</th>\n",
       "      <th>B</th>\n",
       "      <th>LSTAT</th>\n",
       "    </tr>\n",
       "  </thead>\n",
       "  <tbody>\n",
       "    <tr>\n",
       "      <th>0</th>\n",
       "      <td>0.00632</td>\n",
       "      <td>18.0</td>\n",
       "      <td>2.31</td>\n",
       "      <td>0.0</td>\n",
       "      <td>0.538</td>\n",
       "      <td>6.575</td>\n",
       "      <td>65.2</td>\n",
       "      <td>4.0900</td>\n",
       "      <td>1.0</td>\n",
       "      <td>296.0</td>\n",
       "      <td>15.3</td>\n",
       "      <td>396.90</td>\n",
       "      <td>4.98</td>\n",
       "    </tr>\n",
       "    <tr>\n",
       "      <th>1</th>\n",
       "      <td>0.02731</td>\n",
       "      <td>0.0</td>\n",
       "      <td>7.07</td>\n",
       "      <td>0.0</td>\n",
       "      <td>0.469</td>\n",
       "      <td>6.421</td>\n",
       "      <td>78.9</td>\n",
       "      <td>4.9671</td>\n",
       "      <td>2.0</td>\n",
       "      <td>242.0</td>\n",
       "      <td>17.8</td>\n",
       "      <td>396.90</td>\n",
       "      <td>9.14</td>\n",
       "    </tr>\n",
       "    <tr>\n",
       "      <th>2</th>\n",
       "      <td>0.02729</td>\n",
       "      <td>0.0</td>\n",
       "      <td>7.07</td>\n",
       "      <td>0.0</td>\n",
       "      <td>0.469</td>\n",
       "      <td>7.185</td>\n",
       "      <td>61.1</td>\n",
       "      <td>4.9671</td>\n",
       "      <td>2.0</td>\n",
       "      <td>242.0</td>\n",
       "      <td>17.8</td>\n",
       "      <td>392.83</td>\n",
       "      <td>4.03</td>\n",
       "    </tr>\n",
       "    <tr>\n",
       "      <th>3</th>\n",
       "      <td>0.03237</td>\n",
       "      <td>0.0</td>\n",
       "      <td>2.18</td>\n",
       "      <td>0.0</td>\n",
       "      <td>0.458</td>\n",
       "      <td>6.998</td>\n",
       "      <td>45.8</td>\n",
       "      <td>6.0622</td>\n",
       "      <td>3.0</td>\n",
       "      <td>222.0</td>\n",
       "      <td>18.7</td>\n",
       "      <td>394.63</td>\n",
       "      <td>2.94</td>\n",
       "    </tr>\n",
       "    <tr>\n",
       "      <th>4</th>\n",
       "      <td>0.06905</td>\n",
       "      <td>0.0</td>\n",
       "      <td>2.18</td>\n",
       "      <td>0.0</td>\n",
       "      <td>0.458</td>\n",
       "      <td>7.147</td>\n",
       "      <td>54.2</td>\n",
       "      <td>6.0622</td>\n",
       "      <td>3.0</td>\n",
       "      <td>222.0</td>\n",
       "      <td>18.7</td>\n",
       "      <td>396.90</td>\n",
       "      <td>5.33</td>\n",
       "    </tr>\n",
       "  </tbody>\n",
       "</table>\n",
       "</div>"
      ],
      "text/plain": [
       "      CRIM    ZN  INDUS  CHAS    NOX     RM   AGE     DIS  RAD    TAX  \\\n",
       "0  0.00632  18.0   2.31   0.0  0.538  6.575  65.2  4.0900  1.0  296.0   \n",
       "1  0.02731   0.0   7.07   0.0  0.469  6.421  78.9  4.9671  2.0  242.0   \n",
       "2  0.02729   0.0   7.07   0.0  0.469  7.185  61.1  4.9671  2.0  242.0   \n",
       "3  0.03237   0.0   2.18   0.0  0.458  6.998  45.8  6.0622  3.0  222.0   \n",
       "4  0.06905   0.0   2.18   0.0  0.458  7.147  54.2  6.0622  3.0  222.0   \n",
       "\n",
       "   PTRATIO       B  LSTAT  \n",
       "0     15.3  396.90   4.98  \n",
       "1     17.8  396.90   9.14  \n",
       "2     17.8  392.83   4.03  \n",
       "3     18.7  394.63   2.94  \n",
       "4     18.7  396.90   5.33  "
      ]
     },
     "execution_count": 2,
     "metadata": {},
     "output_type": "execute_result"
    }
   ],
   "source": [
    "# PART A\n",
    "\n",
    "# Print the size of the data\n",
    "print boston.data.shape\n",
    "print \"The size of the data frame is 506 entries with 13 attributes each.\\n\"\n",
    "\n",
    "# Print the first 5 rows of the datafram\n",
    "df = pd.DataFrame(boston.data, columns=boston.feature_names)\n",
    "df[:5]"
   ]
  },
  {
   "cell_type": "markdown",
   "metadata": {},
   "source": [
    "## Part B"
   ]
  },
  {
   "cell_type": "code",
   "execution_count": 3,
   "metadata": {},
   "outputs": [
    {
     "name": "stdout",
     "output_type": "stream",
     "text": [
      "Coefficients are:\n",
      "[ -1.07170557e-01   4.63952195e-02   2.08602395e-02   2.68856140e+00\n",
      "  -1.77957587e+01   3.80475246e+00   7.51061703e-04  -1.47575880e+00\n",
      "   3.05655038e-01  -1.23293463e-02  -9.53463555e-01   9.39251272e-03\n",
      "  -5.25466633e-01]\n",
      "\n",
      "MSE = 21.898\n"
     ]
    }
   ],
   "source": [
    "# PART B\n",
    "\n",
    "# Create linear regression object and train with X and y\n",
    "regr = linear_model.LinearRegression()\n",
    "regr.fit(X, y)\n",
    "\n",
    "# The coefficients and MSE\n",
    "print \"Coefficients are:\\n\" , regr.coef_\n",
    "print \"\\nMSE =\", round(mean_squared_error(y, regr.predict(X)), 3)"
   ]
  },
  {
   "cell_type": "markdown",
   "metadata": {},
   "source": [
    "## Part C"
   ]
  },
  {
   "cell_type": "code",
   "execution_count": 4,
   "metadata": {},
   "outputs": [
    {
     "name": "stdout",
     "output_type": "stream",
     "text": [
      "Coefficients:\n",
      "[ -1.91246374e-01   4.42289967e-02   5.52207977e-02   1.71631351e+00\n",
      "  -1.49957220e+01   4.88773025e+00   2.60921031e-03  -1.29480799e+00\n",
      "   4.84787214e-01  -1.54006673e-02  -8.08795026e-01  -1.29230427e-03\n",
      "  -5.17953791e-01]\n",
      "\n",
      "MSE = 38.164\n"
     ]
    }
   ],
   "source": [
    "# PART C\n",
    "\n",
    "# Split the data into training/testing sets\n",
    "X_train = X[:400]\n",
    "X_test = X[400:]\n",
    "y_train = y[:400]\n",
    "y_test = y[400:]\n",
    "\n",
    "# Create linear regression object and train the model\n",
    "regr2 = linear_model.LinearRegression()\n",
    "regr2.fit(X_train, y_train)\n",
    "y_hat = regr2.predict(X_test)\n",
    "\n",
    "# The coefficients and MSE\n",
    "print 'Coefficients:\\n', regr2.coef_\n",
    "print\"\\nMSE =\", round(mean_squared_error(y_test, y_hat),3)"
   ]
  },
  {
   "cell_type": "markdown",
   "metadata": {},
   "source": [
    "### Comparing MSE from B and C:\n",
    "When creating the linear regression with the entire dataset and then testing on that dataset, we achieved a much lower MSE than when splitting the set as in part C. This could have been due to a couple different reasons.\n",
    "\n",
    "1. The split was not completely random and thus may have skewed the regression model, which would have yielded a higher MSE when using the model on the test set.\n",
    "\n",
    "2. The first regression done on the entire set, tested only on itself. This should be a better fit for our model, but this method risks overfitting, which in turn could have a lower MSE when it is not as good of fit."
   ]
  },
  {
   "cell_type": "markdown",
   "metadata": {},
   "source": [
    "## Part D"
   ]
  },
  {
   "cell_type": "code",
   "execution_count": 5,
   "metadata": {},
   "outputs": [
    {
     "data": {
      "image/png": "[encoded data removed]",
      "text/plain": [
       "<matplotlib.figure.Figure at 0x10ddb4890>"
      ]
     },
     "metadata": {},
     "output_type": "display_data"
    }
   ],
   "source": [
    "# PART D\n",
    "\n",
    "plt.scatter(y_hat, y_hat - y_test)\n",
    "plt.hlines(y=0, xmin = -10, xmax = 40)\n",
    "plt.show()"
   ]
  },
  {
   "cell_type": "markdown",
   "metadata": {},
   "source": [
    "### Is the model reasonable?\n",
    "\n",
    "The residual plot shows a mostly random distribution of points above and below the zero line, so it looks like linear regression can be an accurate and fairly unbiased fit. There tends to be some clumping of points in the upper right portion of the graph, so there my be some bias in the results. However, overall this model appears to be a reasonable fit."
   ]
  },
  {
   "cell_type": "markdown",
   "metadata": {},
   "source": [
    "## Part E"
   ]
  },
  {
   "cell_type": "code",
   "execution_count": 6,
   "metadata": {
    "collapsed": true
   },
   "outputs": [],
   "source": [
    "X = np.concatenate((X, np.square(X)), axis=1)"
   ]
  },
  {
   "cell_type": "code",
   "execution_count": 7,
   "metadata": {},
   "outputs": [
    {
     "name": "stdout",
     "output_type": "stream",
     "text": [
      "Coefficients:\n",
      "[ -6.28564029e-01  -4.69283413e-02   1.35998008e-01   1.12670520e+00\n",
      "  -3.89085940e+01  -1.71470367e+01  -1.92714017e-02  -2.49211073e+00\n",
      "   6.85468872e-01  -1.10900553e-01  -6.25152381e+00   4.25358263e-02\n",
      "  -1.43915460e+00   5.03672853e-03   5.35234383e-04  -4.91394588e-03\n",
      "   1.12670516e+00   1.11228197e+01   1.61544902e+00   2.97952872e-04\n",
      "   1.37189224e-01  -3.37949389e-02   1.47365245e-04   1.54711150e-01\n",
      "  -7.67778717e-05   2.70068424e-02]\n",
      "\n",
      "MSE = 32.947\n"
     ]
    }
   ],
   "source": [
    "# PART E\n",
    "\n",
    "# Split the data into training/testing sets\n",
    "X_train = X[:400]\n",
    "X_test = X[400:]\n",
    "\n",
    "# Create linear regression object and train the model\n",
    "regr3 = linear_model.LinearRegression()\n",
    "regr3.fit(X_train, y_train)\n",
    "y_hat = regr3.predict(X_test)\n",
    "\n",
    "# The coefficients and MSE\n",
    "print 'Coefficients:\\n', regr3.coef_\n",
    "print\"\\nMSE =\", round(mean_squared_error(y_test, y_hat),3)"
   ]
  },
  {
   "cell_type": "markdown",
   "metadata": {},
   "source": [
    "# Question 4: Ridge and Lasso Regression (25 points)\n"
   ]
  },
  {
   "cell_type": "markdown",
   "metadata": {},
   "source": [
    "Using the same boston data from before, in this question you will explore the application of Lasso and Ridge regression using sklearn package in Python. The following code will split the data into training and test set using [train_test_split](http://scikit-learn.org/stable/modules/generated/sklearn.model_selection.train_test_split.html) with **random state 20** and **test_size = 0.33**.  Note: lambda is called alpha in sklearn."
   ]
  },
  {
   "cell_type": "code",
   "execution_count": 8,
   "metadata": {
    "collapsed": true
   },
   "outputs": [],
   "source": [
    "from sklearn.model_selection import train_test_split\n",
    "X_train, X_test, y_train, y_test = train_test_split(X,y,test_size = 0.33, random_state=20)"
   ]
  },
  {
   "cell_type": "markdown",
   "metadata": {},
   "source": [
    "1) Use sklearn.linear_model.Lasso and sklearn.linear_model.Ridge classes to do a [5-fold cross validation](http://scikit-learn.org/stable/auto_examples/exercises/plot_cv_diabetes.html#example-exercises-plot-cv-diabetes-py) using sklearn's [KFold](http://scikit-learn.org/stable/modules/generated/sklearn.cross_validation.KFold.html). For the sweep of the regularization parameter, we will look at a grid of values ranging from $\\lambda = 10^{10}$ to $\\lambda = 10^{-2}$. In Python, you can consider this range of values as follows:\n",
    "\n",
    "      import numpy as np\n",
    "\n",
    "      alphas =  10**np.linspace(10,-2,100)*0.5\n",
    "\n",
    "  Report the best chosen $\\lambda$ based on cross validation. The cross validation should happen on your training data using  average MSE as the scoring metric. (8pts)\n",
    "\n",
    "2) Run ridge and lasso for all of the alphas specified above (on training data), and plot the coefficients learned for each of them - there should be one plot each for lasso and ridge, so a total of two plots; the plots for different features for a method should be on the same plot (e.g. Fig 6.6 of JW). What do you qualitatively observe when value of the regularization parameter is changed? (7pts)\n",
    "\n",
    "3) Run least squares regression, ridge, and lasso on the training data. For ridge and lasso, use only the best regularization parameter. Report the prediction error (MSE) on the test data for each. (5pts)\n",
    "\n",
    "4) Run lasso again with cross validation using [sklearn.linear_model.LassoCV](http://scikit-learn.org/stable/modules/generated/sklearn.linear_model.LassoCV.html). Set the cross validation parameters as follows:\n",
    "\n",
    "    LassoCV(alphas=None, cv=10, max_iter=10000)\n",
    "\n",
    "Report the best $\\lambda$ based on cross validation. Run lasso on the training data using the best $\\lambda$ and report the coefficeints for 26 variables. What do you observe from these coefficients? (5pts)\n",
    "\n",
    "## Answer\n",
    "\n"
   ]
  },
  {
   "cell_type": "code",
   "execution_count": 9,
   "metadata": {
    "collapsed": true
   },
   "outputs": [],
   "source": [
    "from sklearn.linear_model import LassoCV\n",
    "from sklearn.linear_model import Lasso, Ridge\n",
    "from sklearn.model_selection import KFold\n",
    "from sklearn.model_selection import GridSearchCV\n",
    "import matplotlib.pyplot as plt"
   ]
  },
  {
   "cell_type": "markdown",
   "metadata": {},
   "source": [
    "## Part 1"
   ]
  },
  {
   "cell_type": "code",
   "execution_count": 21,
   "metadata": {},
   "outputs": [
    {
     "data": {
      "image/png": "[encoded data removed]",
      "text/plain": [
       "<matplotlib.figure.Figure at 0x1139f2f90>"
      ]
     },
     "metadata": {},
     "output_type": "display_data"
    },
    {
     "name": "stdout",
     "output_type": "stream",
     "text": [
      "Lasso Best Lambda = 0.005\n"
     ]
    }
   ],
   "source": [
    "# Part 1(a): Lasso Best Lambda\n",
    "\n",
    "lasso = Lasso(random_state=0, normalize = True)\n",
    "alphas =  10**np.linspace(10,-2,100)*0.5\n",
    "\n",
    "tuned_parameters = [{'alpha': alphas}]\n",
    "n_folds = 5\n",
    "\n",
    "clf = GridSearchCV(lasso, tuned_parameters, cv=n_folds)\n",
    "clf.fit(X, y)\n",
    "lasso_scores = clf.cv_results_['mean_test_score']\n",
    "\n",
    "plt.semilogx(alphas, lasso_scores)\n",
    "plt.ylabel('CV score')\n",
    "plt.xlabel('alpha')\n",
    "plt.title('Lasso Alpha Cross Validation')\n",
    "plt.axhline(np.max(lasso_scores), linestyle='--', color='.5')\n",
    "plt.xlim([alphas[0], alphas[-1]])\n",
    "plt.show()\n",
    "\n",
    "best_alpha_lasso = alphas[lasso_scores.argmax()]\n",
    "print \"Lasso Best Lambda =\", round(best_alpha_lasso,3)"
   ]
  },
  {
   "cell_type": "code",
   "execution_count": 20,
   "metadata": {},
   "outputs": [
    {
     "data": {
      "image/png": "[encoded data removed]",
      "text/plain": [
       "<matplotlib.figure.Figure at 0x113744b10>"
      ]
     },
     "metadata": {},
     "output_type": "display_data"
    },
    {
     "name": "stdout",
     "output_type": "stream",
     "text": [
      "Ridge Best Lambda = 0.005\n"
     ]
    }
   ],
   "source": [
    "# Part 1(b): Ridge Best Lambda\n",
    "\n",
    "ridge = Ridge(random_state=0, normalize = True)\n",
    "\n",
    "crdg = GridSearchCV(ridge, tuned_parameters, cv=n_folds)\n",
    "crdg.fit(X, y)\n",
    "ridge_scores = crdg.cv_results_['mean_test_score']\n",
    "\n",
    "plt.semilogx(alphas, ridge_scores)\n",
    "plt.ylabel('CV score')\n",
    "plt.xlabel('alpha')\n",
    "plt.title('Ridge Alpha Cross Validation')\n",
    "plt.axhline(np.max(ridge_scores), linestyle='--', color='.5')\n",
    "plt.xlim([alphas[0], alphas[-1]])\n",
    "plt.show()\n",
    "\n",
    "best_alpha_ridge = alphas[ridge_scores.argmax()]\n",
    "print \"Ridge Best Lambda =\", round(best_alpha_ridge,3)"
   ]
  },
  {
   "cell_type": "markdown",
   "metadata": {},
   "source": [
    "## Part 2"
   ]
  },
  {
   "cell_type": "code",
   "execution_count": 12,
   "metadata": {},
   "outputs": [
    {
     "name": "stderr",
     "output_type": "stream",
     "text": [
      "/Users/brettscroggins/anaconda/lib/python2.7/site-packages/sklearn/linear_model/coordinate_descent.py:484: ConvergenceWarning: Objective did not converge. You might want to increase the number of iterations. Fitting data with very small alpha may cause precision problems.\n",
      "  ConvergenceWarning)\n"
     ]
    },
    {
     "data": {
      "image/png": "[encoded data removed]",
      "text/plain": [
       "<matplotlib.figure.Figure at 0x112261110>"
      ]
     },
     "metadata": {},
     "output_type": "display_data"
    }
   ],
   "source": [
    "# Part 2(a): Lasso Lambda Selection\n",
    "\n",
    "# Creating the Lasso model:\n",
    "lasso = Lasso(random_state=0)\n",
    "coeffs = []\n",
    "\n",
    "# Train the model with different regularisation strengths:\n",
    "for a in alphas:\n",
    "    lasso.set_params(alpha=a)\n",
    "    lasso.fit(X, y)\n",
    "    coeffs.append(lasso.coef_)\n",
    "\n",
    "# Plotting the results for ridge:\n",
    "ax = plt.gca()\n",
    "ax.plot(alphas, coeffs)\n",
    "ax.set_xscale('log')\n",
    "plt.xlabel('alpha')\n",
    "plt.ylabel('weights')\n",
    "plt.title('Lasso coefficients as a function of the regularization')\n",
    "plt.axis('tight')\n",
    "plt.show()"
   ]
  },
  {
   "cell_type": "code",
   "execution_count": 13,
   "metadata": {},
   "outputs": [
    {
     "data": {
      "image/png": "[encoded data removed]",
      "text/plain": [
       "<matplotlib.figure.Figure at 0x111f183d0>"
      ]
     },
     "metadata": {},
     "output_type": "display_data"
    }
   ],
   "source": [
    "# Part 2(b): Ridge Lambda Selection\n",
    "\n",
    "# Creating the Ridge model:\n",
    "ridge = Ridge(random_state=0)\n",
    "coefs = []\n",
    "\n",
    "# Train the model with different regularisation strengths:\n",
    "for a in alphas:\n",
    "    ridge.set_params(alpha=a)\n",
    "    ridge.fit(X, y)\n",
    "    coefs.append(ridge.coef_)\n",
    "\n",
    "# Plotting the results for ridge:\n",
    "ax = plt.gca()\n",
    "ax.plot(alphas, coefs)\n",
    "ax.set_xscale('log')\n",
    "plt.xlabel('alpha')\n",
    "plt.ylabel('weights')\n",
    "plt.title('Ridge coefficients as a function of the regularization')\n",
    "plt.axis('tight')\n",
    "plt.show()"
   ]
  },
  {
   "cell_type": "markdown",
   "metadata": {},
   "source": [
    "## Part 3"
   ]
  },
  {
   "cell_type": "code",
   "execution_count": 14,
   "metadata": {},
   "outputs": [
    {
     "name": "stdout",
     "output_type": "stream",
     "text": [
      "Least Squares MSE = 17.298\n"
     ]
    }
   ],
   "source": [
    "# Part 3(a): Least Squares Regression\n",
    "\n",
    "leastsqr = linear_model.LinearRegression()\n",
    "leastsqr.fit(X_train, y_train)\n",
    "\n",
    "print \"Least Squares MSE =\", round(mean_squared_error(y_test, leastsqr.predict(X_test)),3)"
   ]
  },
  {
   "cell_type": "code",
   "execution_count": 15,
   "metadata": {},
   "outputs": [
    {
     "name": "stdout",
     "output_type": "stream",
     "text": [
      "Lasso MSE = 22.857\n"
     ]
    }
   ],
   "source": [
    "# Part 3(b): Lasso Regression\n",
    "\n",
    "lasso = Lasso(random_state=0, alpha = best_alpha_lasso, normalize = True)\n",
    "lasso_fit = lasso.fit(X_train, y_train)\n",
    "\n",
    "lasso_y_hat = lasso_fit.predict(X_test)\n",
    "print \"Lasso MSE =\", round(mean_squared_error(y_test, lasso_y_hat),3)"
   ]
  },
  {
   "cell_type": "code",
   "execution_count": 16,
   "metadata": {},
   "outputs": [
    {
     "name": "stdout",
     "output_type": "stream",
     "text": [
      "Ridge MSE = 18.68\n"
     ]
    }
   ],
   "source": [
    "# Part 3(c): Ridge Regression\n",
    "\n",
    "ridge = Ridge(random_state=0, alpha = best_alpha_ridge, normalize = True)\n",
    "ridge_fit = ridge.fit(X_train, y_train)\n",
    "\n",
    "ridge_y_hat = ridge_fit.predict(X_test)\n",
    "print \"Ridge MSE =\", round(mean_squared_error(y_test, ridge_y_hat),3)"
   ]
  },
  {
   "cell_type": "markdown",
   "metadata": {},
   "source": [
    "### Write-Up:\n",
    "The least square model gave the lowest mean squared error (MSE) at 17.298 and therefore is the most accurate model for prediction for this specific case. Prior to running the Lasso and Ridge regressions to best avoid variance in units and variables, we decided to normalize the data to get a more appropriate fit. The Lasso regression with a best lambda of 1.005 gave a similar MSE to the Ridge regresion with its best lambda of 814.875 yeilding MSE's of 23.414 and 23.515 respectively."
   ]
  },
  {
   "cell_type": "markdown",
   "metadata": {},
   "source": [
    "## Part 4"
   ]
  },
  {
   "cell_type": "code",
   "execution_count": 17,
   "metadata": {},
   "outputs": [
    {
     "name": "stdout",
     "output_type": "stream",
     "text": [
      "The best lambda value for Lasso cross validation is:\n",
      "0.00094\n",
      "\n",
      "Coefficients matrix for the Lasso Cross Validation: \n",
      "[ -2.29932177e-01  -3.65285730e-02   1.44418536e-01   0.00000000e+00\n",
      "  -2.06592899e-02  -1.79941776e+01   4.40868190e-03  -2.74415362e+00\n",
      "   6.12055320e-01  -3.16006931e-02  -5.67129047e+00   9.55181586e-03\n",
      "  -1.32998473e+00   1.13349330e-03   4.81600831e-04  -2.96806266e-03\n",
      "   1.74317835e+00  -1.82629504e+01   1.67875058e+00  -1.74724501e-05\n",
      "   1.73278180e-01  -1.40003121e-02   2.34227098e-05   1.40750624e-01\n",
      "  -8.54468971e-06   2.29337291e-02]\n",
      "\n",
      "Mean squared error for the lasso model using best lambda found via cross validation is:\n",
      "17.43\n"
     ]
    }
   ],
   "source": [
    "# Part 4: Lasso Cross Validation\n",
    "\n",
    "lassocv = LassoCV(alphas=None, cv=10, max_iter=10000, normalize = True).fit(X_train, y_train)\n",
    "best_lassocv_alpha = lassocv.alpha_\n",
    "print \"The best lambda value for Lasso cross validation is:\\n\", round(best_lassocv_alpha,5)\n",
    "\n",
    "best_lasso = Lasso(random_state=0, alpha=best_lassocv_alpha).fit(X_train,y_train)\n",
    "print \"\\nCoefficients matrix for the Lasso Cross Validation: \\n\", best_lasso.coef_\n",
    "\n",
    "predict_lasso = best_lasso.predict(X_test)\n",
    "cv_errors = mean_squared_error(predict_lasso,y_test)\n",
    "print'\\nMean squared error for the lasso model using best lambda found via cross validation is:\\n', round(cv_errors,3)"
   ]
  },
  {
   "cell_type": "markdown",
   "metadata": {},
   "source": [
    "### Observations from above:\n",
    "\n",
    "When the model was not normalized, the results were drastically different. That was the first major observation found. Using the normalized model, based on the given coefficients it is clear that all but one variable is valuable in the predictive model. Though not all variables are equal in weight, only one is fully brought to zero.      \n",
    "       \n",
    "There is a spread of six orders of magnitude on the coefficients, with the strongest being a value of magnitude 17.84; while the weakest non-zero coefficient is on the magnitude of .0000078. It is worth noting that all of the concatenated variable coefficients are generally lower than the original variable coefficients."
   ]
  },
  {
   "cell_type": "markdown",
   "metadata": {},
   "source": [
    "# Question 5  (5 pts)\n",
    "\n",
    "A regression model that includes \"interaction terms\" (i.e. quadratic terms of the form $x_ix_j$) as predictors in addition to the linear terms is clearly more general than a corresponding model that employs the same independent variables but only uses the linear terms. Outline two situations where the simpler (less general) model would be preferred to the more powerful model that includes interactive terms.\n"
   ]
  },
  {
   "cell_type": "markdown",
   "metadata": {
    "collapsed": true
   },
   "source": [
    "## Answer:\n",
    "\n",
    "Interaction terms create a level of dependence between terms. This would not be a better model in any instance in which there is independence between variables. Additionally, a simpler model without interaction terms would be much easier to explain. Anytime a high degree of explainability and interpretability for a model is desired, interaction terms would not be preferred over the less 'powerful' model."
   ]
  }
 ],
 "metadata": {
  "anaconda-cloud": {},
  "kernelspec": {
   "display_name": "Python 2",
   "language": "python",
   "name": "python2"
  },
  "language_info": {
   "codemirror_mode": {
    "name": "ipython",
    "version": 2
   },
   "file_extension": ".py",
   "mimetype": "text/x-python",
   "name": "python",
   "nbconvert_exporter": "python",
   "pygments_lexer": "ipython2",
   "version": "2.7.13"
  }
 },
 "nbformat": 4,
 "nbformat_minor": 1
}
