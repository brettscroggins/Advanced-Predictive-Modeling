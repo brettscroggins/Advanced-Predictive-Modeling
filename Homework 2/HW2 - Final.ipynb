{
 "cells": [
  {
   "cell_type": "markdown",
   "metadata": {},
   "source": [
    "\n",
    "# <p style=\"text-align: center;\">MIS382: Advanced Predictive Modeling</p>\n",
    "# <p style=\"text-align: center;\">Assignment 2</p>\n",
    "## <p style=\"text-align: center;\">Total points: 40</p>\n",
    "## <p style=\"text-align: center;\">Due: Wed, October 4th, submitted via Canvas by 11:59 pm</p>\n",
    "\n",
    "Your homework should be written in a **Jupyter notebook**. You may work in groups of two if you wish. Only one student per team needs to submit the assignment on Canvas.  But be sure to include name and UTID for both students.  Homework groups will be created and managed through Canvas, so please do not arbitrarily change your homework group.  \n",
    "\n",
    "Also, please make sure your code runs and the graphics (and anything else) are displayed in your notebook before submitting. (%matplotlib inline)"
   ]
  },
  {
   "cell_type": "markdown",
   "metadata": {},
   "source": [
    "# Question 1 - Bias-variance Trandeoff (2pts)\n",
    "How does the choice of K in the K-nearest neighbor classifier reflect a bias-variance tradeoff?\n",
    "\n",
    "## Answer:\n",
    "\n",
    "In the k-nearest neighbor model, k is decided to find a balance in bias and variance. A high value of k leads to high bias and low variance. Conversely, a low k values yields a low bias, but high variance. This needs to be selected appropriately in order to find a balance of both that best associates with the problem that it is trying to represent.\n"
   ]
  },
  {
   "cell_type": "markdown",
   "metadata": {},
   "source": [
    "# Question 2: Data Exploration and Regression Analysis (4+3+4+4=15pts)\n",
    "\n",
    "Consider the dataset provided (russett_full_v2.csv) about agricultural inequality, industrial development and political instability in different countries. More information about it can be found [here](https://www.rdocumentation.org/packages/plspm/versions/0.4.9/topics/russett) though the data itself is slightly different than that referenced in the link.\n",
    "\n",
    "a) (4 points) Generate box-plots of the \"rent\" (% of farmers that rent all their land), \"inst\" (measure of political stability in the executive branch), \"ecks\" (number of violent internal war incidents ) and \"demo_score\" ( derived measure of the level of a country's democracy from 1945 to 61 ) and identify the cutoff values for outliers. \n",
    "\n",
    "Generate 3 scatterplots of \"rent\" against \"demo_score\", \"inst\" against \"demo_score\" and \"ecks\" against \"demo_score\" with the identified outliers colored differently than non-outliers in each; comment on how inclusion of the outliers would affect a predictive model for the \"demo_score\" response."
   ]
  },
  {
   "cell_type": "code",
   "execution_count": 1,
   "metadata": {
    "collapsed": true
   },
   "outputs": [],
   "source": [
    "import pandas as pd\n",
    "import matplotlib.pyplot as plt\n",
    "import numpy as np\n",
    "from sklearn import datasets, linear_model\n",
    "from sklearn.metrics import mean_squared_error\n",
    "import math\n",
    "from pylab import *\n",
    "\n",
    "%matplotlib inline"
   ]
  },
  {
   "cell_type": "code",
   "execution_count": 2,
   "metadata": {},
   "outputs": [
    {
     "data": {
      "text/html": [
       "<div>\n",
       "<style>\n",
       "    .dataframe thead tr:only-child th {\n",
       "        text-align: right;\n",
       "    }\n",
       "\n",
       "    .dataframe thead th {\n",
       "        text-align: left;\n",
       "    }\n",
       "\n",
       "    .dataframe tbody tr th {\n",
       "        vertical-align: top;\n",
       "    }\n",
       "</style>\n",
       "<table border=\"1\" class=\"dataframe\">\n",
       "  <thead>\n",
       "    <tr style=\"text-align: right;\">\n",
       "      <th></th>\n",
       "      <th>country</th>\n",
       "      <th>gini</th>\n",
       "      <th>farm</th>\n",
       "      <th>rent</th>\n",
       "      <th>gnpr</th>\n",
       "      <th>labo</th>\n",
       "      <th>inst</th>\n",
       "      <th>ecks</th>\n",
       "      <th>death</th>\n",
       "      <th>demo_class</th>\n",
       "      <th>demo_score</th>\n",
       "    </tr>\n",
       "  </thead>\n",
       "  <tbody>\n",
       "    <tr>\n",
       "      <th>0</th>\n",
       "      <td>Argentina</td>\n",
       "      <td>86.3</td>\n",
       "      <td>98.2</td>\n",
       "      <td>47.9</td>\n",
       "      <td>374</td>\n",
       "      <td>25</td>\n",
       "      <td>16.6</td>\n",
       "      <td>47.0</td>\n",
       "      <td>217</td>\n",
       "      <td>2</td>\n",
       "      <td>35</td>\n",
       "    </tr>\n",
       "    <tr>\n",
       "      <th>1</th>\n",
       "      <td>Australia</td>\n",
       "      <td>92.9</td>\n",
       "      <td>99.6</td>\n",
       "      <td>30.0</td>\n",
       "      <td>1215</td>\n",
       "      <td>14</td>\n",
       "      <td>19.3</td>\n",
       "      <td>0.0</td>\n",
       "      <td>0</td>\n",
       "      <td>1</td>\n",
       "      <td>89</td>\n",
       "    </tr>\n",
       "    <tr>\n",
       "      <th>2</th>\n",
       "      <td>Austria</td>\n",
       "      <td>74.0</td>\n",
       "      <td>97.4</td>\n",
       "      <td>25.7</td>\n",
       "      <td>532</td>\n",
       "      <td>32</td>\n",
       "      <td>15.8</td>\n",
       "      <td>4.0</td>\n",
       "      <td>0</td>\n",
       "      <td>2</td>\n",
       "      <td>52</td>\n",
       "    </tr>\n",
       "    <tr>\n",
       "      <th>3</th>\n",
       "      <td>Belgium</td>\n",
       "      <td>58.7</td>\n",
       "      <td>85.8</td>\n",
       "      <td>98.3</td>\n",
       "      <td>1015</td>\n",
       "      <td>10</td>\n",
       "      <td>23.5</td>\n",
       "      <td>8.0</td>\n",
       "      <td>1</td>\n",
       "      <td>1</td>\n",
       "      <td>98</td>\n",
       "    </tr>\n",
       "    <tr>\n",
       "      <th>4</th>\n",
       "      <td>Bolivia</td>\n",
       "      <td>93.8</td>\n",
       "      <td>97.7</td>\n",
       "      <td>35.0</td>\n",
       "      <td>66</td>\n",
       "      <td>72</td>\n",
       "      <td>18.3</td>\n",
       "      <td>43.0</td>\n",
       "      <td>663</td>\n",
       "      <td>3</td>\n",
       "      <td>19</td>\n",
       "    </tr>\n",
       "  </tbody>\n",
       "</table>\n",
       "</div>"
      ],
      "text/plain": [
       "     country  gini  farm  rent  gnpr  labo  inst  ecks  death  demo_class  \\\n",
       "0  Argentina  86.3  98.2  47.9   374    25  16.6  47.0    217           2   \n",
       "1  Australia  92.9  99.6  30.0  1215    14  19.3   0.0      0           1   \n",
       "2    Austria  74.0  97.4  25.7   532    32  15.8   4.0      0           2   \n",
       "3    Belgium  58.7  85.8  98.3  1015    10  23.5   8.0      1           1   \n",
       "4    Bolivia  93.8  97.7  35.0    66    72  18.3  43.0    663           3   \n",
       "\n",
       "   demo_score  \n",
       "0          35  \n",
       "1          89  \n",
       "2          52  \n",
       "3          98  \n",
       "4          19  "
      ]
     },
     "execution_count": 2,
     "metadata": {},
     "output_type": "execute_result"
    }
   ],
   "source": [
    "russett = pd.read_table('/Users/brettscroggins/Downloads/russett_full_v2.csv', sep=',')\n",
    "russett[:5]"
   ]
  },
  {
   "cell_type": "code",
   "execution_count": 3,
   "metadata": {},
   "outputs": [
    {
     "data": {
      "image/png": "[encoded data removed]",
      "text/plain": [
       "<matplotlib.figure.Figure at 0x1156dc150>"
      ]
     },
     "metadata": {},
     "output_type": "display_data"
    },
    {
     "name": "stdout",
     "output_type": "stream",
     "text": [
      "*** Note: The Demo Score boxplot has no outliers.\n"
     ]
    }
   ],
   "source": [
    "#### Box Plots\n",
    "plots, (s1, s2, s3, s4) = plt.subplots(1, 4)\n",
    "plots.tight_layout()\n",
    "\n",
    "r1 = s1.boxplot(russett['rent'])\n",
    "rent_out = russett['rent'].isin(r1['fliers'][0].get_data()[1])\n",
    "rent_outliers = russett[rent_out]\n",
    "s1.scatter(np.ones_like(rent_outliers['rent']),rent_outliers['rent'],c='red')\n",
    "s1.set_title('Rent')\n",
    "\n",
    "r2 = s2.boxplot(russett['inst'])\n",
    "inst_out = russett['inst'].isin(r2['fliers'][0].get_data()[1])\n",
    "inst_outliers = russett[inst_out]\n",
    "s2.scatter(np.ones_like(inst_outliers['inst']),inst_outliers['inst'],c='red')\n",
    "s2.set_title('Inst')\n",
    "\n",
    "r3 = s3.boxplot(russett['ecks'])\n",
    "ecks_out = russett['ecks'].isin(r3['fliers'][0].get_data()[1])\n",
    "ecks_outliers = russett[ecks_out]\n",
    "s3.scatter(np.ones_like(ecks_outliers['ecks']),ecks_outliers['ecks'],c='red')\n",
    "s3.set_title('Ecks')\n",
    "\n",
    "r4 = s4.boxplot(russett['demo_score'])\n",
    "demo_out = russett['demo_score'].isin(r4['fliers'][0].get_data()[1])\n",
    "demo_outliers = russett[demo_out]\n",
    "s4.scatter(np.ones_like(demo_outliers['demo_score']),demo_outliers['demo_score'],c='red')\n",
    "s4.set_title('Demo')\n",
    "\n",
    "plt.show()\n",
    "print \"*** Note: The Demo Score boxplot has no outliers.\""
   ]
  },
  {
   "cell_type": "code",
   "execution_count": 26,
   "metadata": {},
   "outputs": [
    {
     "data": {
      "image/png": "[encoded data removed]",
      "text/plain": [
       "<matplotlib.figure.Figure at 0x11dca9fd0>"
      ]
     },
     "metadata": {},
     "output_type": "display_data"
    },
    {
     "data": {
      "image/png": "[encoded data removed]",
      "text/plain": [
       "<matplotlib.figure.Figure at 0x11dc72f10>"
      ]
     },
     "metadata": {},
     "output_type": "display_data"
    },
    {
     "data": {
      "image/png": "[encoded data removed]",
      "text/plain": [
       "<matplotlib.figure.Figure at 0x11db23a90>"
      ]
     },
     "metadata": {},
     "output_type": "display_data"
    }
   ],
   "source": [
    "# Scatter Plots\n",
    "# \"rent\" against \"demo_score\", \"inst\" against \"demo_score\" and \"ecks\" against \"demo_score\"\n",
    "\n",
    "plt.scatter('demo_score','rent', data = russett, color = 'orange')\n",
    "plt.scatter('demo_score','rent', data = rent_outliers, color = 'red')\n",
    "plt.xlabel('Demo Score')\n",
    "plt.ylabel('Rent')\n",
    "plt.title('Demo Score vs. Rent')\n",
    "plt.show()\n",
    "\n",
    "plt.scatter('demo_score','inst', data = russett, color = 'green')\n",
    "plt.scatter('demo_score','inst', data = inst_outliers, color = 'red')\n",
    "plt.xlabel('Demo Score')\n",
    "plt.ylabel('Inst')\n",
    "plt.title('Demo Score vs. Inst')\n",
    "plt.show()\n",
    "\n",
    "plt.scatter('demo_score','ecks', data = russett, color = 'blue')\n",
    "plt.scatter('demo_score','ecks', data = ecks_outliers, color = 'red')\n",
    "plt.xlabel('Demo Score')\n",
    "plt.ylabel('Ecks')\n",
    "plt.title('Demo Score vs. Ecks')\n",
    "plt.show()"
   ]
  },
  {
   "cell_type": "markdown",
   "metadata": {},
   "source": [
    "b) (3 points) Let us try to fit an MLR, using ordinary least squares, to this dataset with \"demo_score\" as the dependent variable using only the predictors 'rent','inst', and 'ecks' . \n",
    "\n",
    "    from sklearn.model_selection import train_test_split\n",
    "    X_train, X_test, y_train, y_test = train_test_split(X,y,test_size = 0.30, random_state=22)   \n",
    "\n",
    "Report the RMSE obtained on both X_train and X_test. How much does this increase when you score your model on X_test?"
   ]
  },
  {
   "cell_type": "code",
   "execution_count": 5,
   "metadata": {
    "collapsed": true
   },
   "outputs": [],
   "source": [
    "from sklearn.model_selection import train_test_split\n",
    "\n",
    "X = russett[['rent','inst','ecks']]\n",
    "y = russett['demo_score']\n",
    "\n",
    "X_train, X_test, y_train, y_test = train_test_split(X,y,test_size = 0.30, random_state=22)"
   ]
  },
  {
   "cell_type": "code",
   "execution_count": 6,
   "metadata": {},
   "outputs": [
    {
     "name": "stdout",
     "output_type": "stream",
     "text": [
      "\n",
      "X Train RMSE = 25.781\n",
      "\n",
      "X Test RMSE = 32.581\n"
     ]
    }
   ],
   "source": [
    "regr = linear_model.LinearRegression()\n",
    "regr.fit(X_train, y_train)\n",
    "train_pred = regr.predict(X_train)\n",
    "\n",
    "print\"\\nX Train RMSE =\", round(math.sqrt(mean_squared_error(y_train, train_pred)),3)\n",
    "\n",
    "test_pred = regr.predict(X_test)\n",
    "\n",
    "print\"\\nX Test RMSE =\", round(math.sqrt(mean_squared_error(y_test, test_pred)),3)"
   ]
  },
  {
   "cell_type": "markdown",
   "metadata": {},
   "source": [
    "c) (4 points ) Try to predict ”demo_score” using a robust regression using Huber loss.  You can use the [sklearn package](  http://scikit-learn.org/stable/modules/generated/sklearn.linear_model.HuberRegressor.html).  Set regularization parameter alpha to 0.0 and all other parameters as default.\n",
    "Report RMSE obtained on both X_train and X_test."
   ]
  },
  {
   "cell_type": "code",
   "execution_count": 7,
   "metadata": {},
   "outputs": [
    {
     "name": "stdout",
     "output_type": "stream",
     "text": [
      "\n",
      "X Train RMSE = 26.836\n",
      "\n",
      "X Test RMSE = 29.166\n"
     ]
    }
   ],
   "source": [
    "hub_regr = linear_model.HuberRegressor(alpha=0.0)\n",
    "hub_regr.fit(X_train, y_train)\n",
    "hub_train_pred = hub_regr.predict(X_train)\n",
    "\n",
    "print\"\\nX Train RMSE =\", round(math.sqrt(mean_squared_error(y_train, hub_train_pred)),3)\n",
    "\n",
    "hub_test_pred = hub_regr.predict(X_test) \n",
    "\n",
    "print\"\\nX Test RMSE =\", round(math.sqrt(mean_squared_error(y_test, hub_test_pred)),3)"
   ]
  },
  {
   "cell_type": "markdown",
   "metadata": {},
   "source": [
    "d) (4 points ) Compare and comment on the model fits obtained in (b) and (c) and plot the residual plots using all data for each model. How do outliers affect the relative performance of ordinary least squares regression, and robust regression with Huber loss in general? "
   ]
  },
  {
   "cell_type": "code",
   "execution_count": 8,
   "metadata": {},
   "outputs": [
    {
     "data": {
      "image/png": "[encoded data removed]",
      "text/plain": [
       "<matplotlib.figure.Figure at 0x11054ed50>"
      ]
     },
     "metadata": {},
     "output_type": "display_data"
    }
   ],
   "source": [
    "plt.scatter(test_pred, test_pred-y_test, color = 'red')\n",
    "plt.hlines(y=0, xmin = 10, xmax = 70)\n",
    "plt.title('OLS Regression Residual Plot')\n",
    "plt.show()"
   ]
  },
  {
   "cell_type": "code",
   "execution_count": 10,
   "metadata": {},
   "outputs": [
    {
     "data": {
      "image/png": "[encoded data removed]",
      "text/plain": [
       "<matplotlib.figure.Figure at 0x119025550>"
      ]
     },
     "metadata": {},
     "output_type": "display_data"
    }
   ],
   "source": [
    "plt.scatter(hub_test_pred, hub_test_pred-y_test, color = 'red')\n",
    "plt.hlines(y=0, xmin = 20, xmax = 80)\n",
    "plt.title('Huber Loss Residual Plot')\n",
    "plt.show()"
   ]
  },
  {
   "cell_type": "markdown",
   "metadata": {},
   "source": [
    "# Question 3 - Sampling (4+4=8pts)\n",
    "\n",
    "1. NBC has come up with an extreme TV show, and each of its viewers either likes or hates it. (no middle ground here; we are in a “black and white age”). NBC wants to estimate what fraction p of its audience like the show by “randomly” calling n viewers and tallying their responses so as to estimate the true value of p to a fractional accuracy of within ±ε%, with a confidence of (1 − α) × 100%. For α = 0.10, ε = 0.03 (i.e. your answer will be $\\hat{p}$ ± 0.02), what is the minimum value of n needed if true value (i) p = 0.5, (ii) p=0.25?\n",
    "\n",
    "    #### Answer for 1. $\\epsilon$ = 0.03,  $\\alpha$ = 0.01, so z = 1.65\n",
    "    #### (i) p = 0.5\n",
    "    n > $(0.5)(1-0.5)(\\dfrac{1.65}{0.03})^2$\n",
    "    n > 756.25\n",
    "    We need to survey at least 757 people.\n",
    "\n",
    "    #### (ii) p = 0.25\n",
    "    n > $(0.25)(1-0.25)(\\dfrac{1.65}{0.03})^2$\n",
    "    n > 567.19\n",
    "    We need to survey at least 568 people.\n",
    "    \n",
    "2. Suppose for a certain value of p and choice of ε, you calculate that you will need 1000 samples for α = 0.02. You now decide to obtain a more accurate answer by either (i) reducing α to 0.01, keeping the same ε or by (ii) reducing ε by a factor of 2 from the original value, and increasing α to 0.05. In each case how many samples would you need now?\n",
    "\n",
    "    #### Answer for 2. n = 1000,  $\\alpha$ = 0.02\n",
    "    #### (i) if $\\alpha$ is reduced to 0.01 and $\\epsilon$ is kept constant\n",
    "    z-score ratio = $\\dfrac{2.58^2}{2.33^2}$\n",
    "    z-score ratio $\\approx$ 1.2261\n",
    "    \n",
    "    To find the amount needed to survey:\n",
    "    $\\approx$ 1.2261 * 1000\n",
    "    $\\approx$ 1226.10\n",
    "    \n",
    "    We need to survey at least 1227 people.\n",
    "\n",
    "    #### (ii) if $\\alpha$ is changed to 0.05 and $\\epsilon$ is reduced by a factor of 2\n",
    "    z-score and $\\epsilon$ ratio $ = \\dfrac{\\dfrac{1.96^2}{0.5\\epsilon^2}}{\\dfrac{2.33^2}{\\epsilon^2}}$\n",
    "    \n",
    "    z-score and $\\epsilon$ ratio $\\approx$ 2.8305\n",
    "    \n",
    "    To find the amount needed to survey:\n",
    "    $\\approx$ 2.8305 * 1000\n",
    "    $\\approx$ 2830.5\n",
    "    \n",
    "    We need to survey at least 2831 people."
   ]
  },
  {
   "cell_type": "markdown",
   "metadata": {},
   "source": [
    "# Question 4 - Principal Component Analysis (10 points)\n",
    "\n",
    "Import the diabetes dataset as in Q1 and add the interaction variables.\n",
    "You should have 65 variables and one target variable."
   ]
  },
  {
   "cell_type": "code",
   "execution_count": 11,
   "metadata": {
    "collapsed": true
   },
   "outputs": [],
   "source": [
    "from sklearn import datasets\n",
    "diabetes = datasets.load_diabetes()\n",
    "X = diabetes.data\n",
    "y = diabetes.target\n",
    "\n",
    "from sklearn.preprocessing import PolynomialFeatures\n",
    "X = PolynomialFeatures(2, include_bias=False).fit_transform(X)"
   ]
  },
  {
   "cell_type": "markdown",
   "metadata": {},
   "source": [
    "Next, use [StandardScaler](http://scikit-learn.org/stable/modules/generated/sklearn.preprocessing.StandardScaler.html) to center and scale each feature as follows."
   ]
  },
  {
   "cell_type": "code",
   "execution_count": 12,
   "metadata": {
    "collapsed": true
   },
   "outputs": [],
   "source": [
    "from sklearn.preprocessing import StandardScaler\n",
    "stdScaler = StandardScaler()\n",
    "X = stdScaler.fit_transform(X)"
   ]
  },
  {
   "cell_type": "markdown",
   "metadata": {},
   "source": [
    "(a) Perform PCA using the sklearn [PCA](http://scikit-learn.org/stable/modules/generated/sklearn.decomposition.PCA.html) package.  Create i) a scree plot depicting the proportion of variance and ii) a cumulative proportion of variance explained by the principal components of the data (X matrix).  Refer to Figure 10.4 of JW for an example.  You may use the output attribute *explained variance ratio*. (3pts)"
   ]
  },
  {
   "cell_type": "code",
   "execution_count": 13,
   "metadata": {
    "collapsed": true
   },
   "outputs": [],
   "source": [
    "from sklearn.decomposition import PCA"
   ]
  },
  {
   "cell_type": "code",
   "execution_count": 14,
   "metadata": {},
   "outputs": [
    {
     "data": {
      "text/plain": [
       "PCA(copy=True, iterated_power='auto', n_components=None, random_state=None,\n",
       "  svd_solver='auto', tol=0.0, whiten=False)"
      ]
     },
     "execution_count": 14,
     "metadata": {},
     "output_type": "execute_result"
    }
   ],
   "source": [
    "pca = PCA()\n",
    "pca.fit(X)"
   ]
  },
  {
   "cell_type": "code",
   "execution_count": 15,
   "metadata": {},
   "outputs": [
    {
     "data": {
      "image/png": "[encoded data removed]",
      "text/plain": [
       "<matplotlib.figure.Figure at 0x1195cb8d0>"
      ]
     },
     "metadata": {},
     "output_type": "display_data"
    }
   ],
   "source": [
    "evr = pca.explained_variance_ratio_\n",
    "\n",
    "# Plot of explained variance percentage by each added dimension:\n",
    "plt.plot(evr)\n",
    "plt.show()"
   ]
  },
  {
   "cell_type": "code",
   "execution_count": 16,
   "metadata": {},
   "outputs": [
    {
     "data": {
      "image/png": "[encoded data removed]",
      "text/plain": [
       "<matplotlib.figure.Figure at 0x11d2af3d0>"
      ]
     },
     "metadata": {},
     "output_type": "display_data"
    }
   ],
   "source": [
    "# Plot of cumulative explained variance proportion with each added dimension:\n",
    "cum_var = np.cumsum(evr)\n",
    "plt.plot(cum_var)\n",
    "plt.show()"
   ]
  },
  {
   "cell_type": "markdown",
   "metadata": {},
   "source": [
    "(b) How many principal components (N1, N2, N3) are required to explain cumulative variance of 30%, 60%, and 90%, respectively? (3pts)"
   ]
  },
  {
   "cell_type": "code",
   "execution_count": 17,
   "metadata": {},
   "outputs": [
    {
     "data": {
      "text/plain": [
       "array([ 0.16576031,  0.25686519,  0.33617548,  0.40088179,  0.45249643,\n",
       "        0.49715739,  0.53623954,  0.57440436,  0.60785616,  0.63801793,\n",
       "        0.66670709,  0.69344814,  0.71489443,  0.7347199 ,  0.75332222,\n",
       "        0.77072435,  0.78721254,  0.80185535,  0.81579914,  0.82891484,\n",
       "        0.8416891 ,  0.85362281,  0.86433991,  0.8743238 ,  0.88400049,\n",
       "        0.89324873,  0.90240341,  0.91058314,  0.91864068,  0.92636405])"
      ]
     },
     "execution_count": 17,
     "metadata": {},
     "output_type": "execute_result"
    }
   ],
   "source": [
    "# Part b:\n",
    "n = 30\n",
    "model = PCA(n)\n",
    "thirty = model.fit(X).explained_variance_ratio_\n",
    "captured_pca = np.cumsum(thirty)\n",
    "captured_pca\n",
    "\n",
    "## From above:\n",
    "# Over 30% explained at 3 components\n",
    "# Over 60% explained at 9 components\n",
    "# Over 90% explained at 27 components"
   ]
  },
  {
   "cell_type": "markdown",
   "metadata": {},
   "source": [
    "(c) Fit an ordinary least squares linear regression using N1, N2, and N3 number of principal components, respectively. (This is called Principal Components Regression) Use entire dataset, e.g. 442 rows. Evaluate the models using mean squared error (MSE). (4pts)"
   ]
  },
  {
   "cell_type": "code",
   "execution_count": 18,
   "metadata": {
    "collapsed": true
   },
   "outputs": [],
   "source": [
    "# Part c:\n",
    "\n",
    "lr = linear_model.LinearRegression()\n",
    "\n",
    "n1 = 3\n",
    "n1_pca = PCA(n_components = n1)\n",
    "\n",
    "n2 = 9\n",
    "n2_pca = PCA(n_components = n2)\n",
    "\n",
    "n3 = 27\n",
    "n3_pca = PCA(n_components = n3)"
   ]
  },
  {
   "cell_type": "code",
   "execution_count": 22,
   "metadata": {},
   "outputs": [
    {
     "name": "stdout",
     "output_type": "stream",
     "text": [
      "\n",
      " MSE = 5120.606\n"
     ]
    }
   ],
   "source": [
    "# Model with 30% explained variance:\n",
    "n1_fit = n1_pca.fit_transform(X)\n",
    "n1_lr = lr.fit(n1_fit,y)\n",
    "n1_pred = n1_lr.predict(n1_fit)\n",
    "print\"\\n MSE =\", round(mean_squared_error(n1_pred,y),3)"
   ]
  },
  {
   "cell_type": "code",
   "execution_count": 23,
   "metadata": {},
   "outputs": [
    {
     "name": "stdout",
     "output_type": "stream",
     "text": [
      "\n",
      " MSE = 3942.787\n"
     ]
    }
   ],
   "source": [
    "# Model with 60% explained variance:\n",
    "n2_fit = n2_pca.fit_transform(X)\n",
    "n2_lr = lr.fit(n2_fit,y)\n",
    "n2_pred = n2_lr.predict(n2_fit)\n",
    "print\"\\n MSE =\", round(mean_squared_error(n2_pred,y),3)"
   ]
  },
  {
   "cell_type": "code",
   "execution_count": 24,
   "metadata": {},
   "outputs": [
    {
     "name": "stdout",
     "output_type": "stream",
     "text": [
      "\n",
      " MSE = 2857.426\n"
     ]
    }
   ],
   "source": [
    "# Model with 90% explained variance:\n",
    "n3_fit = n3_pca.fit_transform(X)\n",
    "n3_lr = lr.fit(n3_fit,y)\n",
    "n3_pred = n3_lr.predict(n3_fit)\n",
    "print\"\\n MSE =\", round(mean_squared_error(n3_pred,y),3)"
   ]
  },
  {
   "cell_type": "markdown",
   "metadata": {},
   "source": [
    "# Question 5 -  Feature Selection ( 5 points )\n",
    "\n",
    "Explain what you understand by the two wrapper methods for feature selection (forward and backward selection) (no more than 1 paragraph). \n"
   ]
  },
  {
   "cell_type": "markdown",
   "metadata": {},
   "source": [
    "## Answer:\n",
    "\n",
    "Both forward and backward selection wrapper methods are feature selection methods of dimension reduction for models. Both begin by assigning a 'value' to each dimension based upon some defined metric. Forward selection then slowly builds from the most 'valuable' variable by iteratively adding the next most 'valuable' variable until the desired blend of accuracy and complexity is reached. Backward selection performs this in reverse; starting with all variables and slowly removing the lowest 'value' dimension until the desired blend is reached."
   ]
  }
 ],
 "metadata": {
  "anaconda-cloud": {},
  "kernelspec": {
   "display_name": "Python 2",
   "language": "python",
   "name": "python2"
  },
  "language_info": {
   "codemirror_mode": {
    "name": "ipython",
    "version": 2
   },
   "file_extension": ".py",
   "mimetype": "text/x-python",
   "name": "python",
   "nbconvert_exporter": "python",
   "pygments_lexer": "ipython2",
   "version": "2.7.13"
  }
 },
 "nbformat": 4,
 "nbformat_minor": 1
}
